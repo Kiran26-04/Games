{
 "cells": [
  {
   "cell_type": "code",
   "execution_count": 1,
   "metadata": {},
   "outputs": [],
   "source": [
    "from random import randint"
   ]
  },
  {
   "cell_type": "code",
   "execution_count": 2,
   "metadata": {},
   "outputs": [],
   "source": [
    "num = randint(1,101)"
   ]
  },
  {
   "cell_type": "code",
   "execution_count": 3,
   "metadata": {},
   "outputs": [
    {
     "name": "stdout",
     "output_type": "stream",
     "text": [
      "Welcome to the Guessing Game!! \n",
      "Game Rules:\n",
      "Rule-1: You have to guess a number between 1-100, 1 and 100 included. \n",
      "Rule-2: If you're nearer to the correct answer, you'll be WARM and if not, you'll be COLD \n",
      "Rule-3: You'll keep getting WARMER AND COLDER on every guess of yours \n",
      "Rule-4: Once you've guessed the number correctly, you'll be shown the correct number along with the number of guesses you took!\n",
      "Rule-5: The less the number of guesses, the bigger the prize!\n",
      "Let's play!\n"
     ]
    }
   ],
   "source": [
    "print(\"Welcome to the Guessing Game!! \\n\" \"Game Rules:\\n\" \"Rule-1: You have to guess a number between 1-100, 1 and 100 included. \\n\" \"Rule-2: If you're nearer to the correct answer, you'll be WARM and if not, you'll be COLD \\n\" \"Rule-3: You'll keep getting WARMER AND COLDER on every guess of yours \\n\" \"Rule-4: Once you've guessed the number correctly, you'll be shown the correct number along with the number of guesses you took!\\n\" \"Rule-5: The less the number of guesses, the bigger the prize!\\n\" \"Let's play!\")"
   ]
  },
  {
   "cell_type": "code",
   "execution_count": 4,
   "metadata": {},
   "outputs": [],
   "source": [
    "guesses = [0]"
   ]
  },
  {
   "cell_type": "code",
   "execution_count": 5,
   "metadata": {},
   "outputs": [
    {
     "name": "stdout",
     "output_type": "stream",
     "text": [
      "Let's enter your guess! \n",
      "50\n",
      "COLD\n",
      "Let's enter your guess! \n",
      "26\n",
      "WARMER\n",
      "Let's enter your guess! \n",
      "24\n",
      "COLDER\n",
      "Let's enter your guess! \n",
      "25\n",
      "WARMER\n",
      "Let's enter your guess! \n",
      "22\n",
      "COLDER\n",
      "Let's enter your guess! \n",
      "11\n",
      "COLDER\n",
      "Let's enter your guess! \n",
      "23\n",
      "WARMER\n",
      "Let's enter your guess! \n",
      "24\n",
      "WARMER\n",
      "Let's enter your guess! \n",
      "26\n",
      "WARMER\n",
      "Let's enter your guess! \n",
      "27\n",
      "WARMER\n",
      "Let's enter your guess! \n",
      "28\n",
      "Congratulations, you have guessed it right and only in 11 guesses!\n"
     ]
    }
   ],
   "source": [
    "while True:\n",
    "    guess = int(input(\"Let's enter your guess! \\n\"))\n",
    "    if guess <1 or guess >100:\n",
    "        print(\"Out of Bounds! Try again:\")\n",
    "        continue\n",
    "    if guess==num:\n",
    "        print(f'Congratulations, you have guessed it right and only in {len(guesses)} guesses!')\n",
    "        break\n",
    "    guesses.append(guess)\n",
    "    if guesses[-2]:\n",
    "        if abs(num-guess)< abs(num-guesses[-2]):\n",
    "            print(\"WARMER\")\n",
    "        else:\n",
    "            print(\"COLDER\")\n",
    "    else:\n",
    "        if abs(num-guess)<=10:\n",
    "            print(\"WARM\")\n",
    "        else:\n",
    "            print(\"COLD\")"
   ]
  },
  {
   "cell_type": "code",
   "execution_count": null,
   "metadata": {},
   "outputs": [],
   "source": []
  }
 ],
 "metadata": {
  "kernelspec": {
   "display_name": "Python 3",
   "language": "python",
   "name": "python3"
  },
  "language_info": {
   "codemirror_mode": {
    "name": "ipython",
    "version": 3
   },
   "file_extension": ".py",
   "mimetype": "text/x-python",
   "name": "python",
   "nbconvert_exporter": "python",
   "pygments_lexer": "ipython3",
   "version": "3.8.5"
  }
 },
 "nbformat": 4,
 "nbformat_minor": 4
}
